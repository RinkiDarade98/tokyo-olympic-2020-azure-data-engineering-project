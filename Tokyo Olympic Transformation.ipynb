{
 "cells": [
  {
   "cell_type": "code",
   "execution_count": 0,
   "metadata": {
    "application/vnd.databricks.v1+cell": {
     "cellMetadata": {
      "byteLimit": 2048000,
      "rowLimit": 10000
     },
     "inputWidgets": {},
     "nuid": "921a289c-3821-4a35-9b45-68a1806fbb7f",
     "showTitle": false,
     "title": ""
    }
   },
   "outputs": [],
   "source": [
    "from pyspark.sql.functions import col\n",
    "from pyspark.sql.types import IntegerType, DoubleType, BooleanType, DateType\n",
    "from pyspark.sql.functions import countDistinct, count\n",
    "from pyspark.sql.functions import round,ceil\n"
   ]
  },
  {
   "cell_type": "code",
   "execution_count": 0,
   "metadata": {
    "application/vnd.databricks.v1+cell": {
     "cellMetadata": {
      "byteLimit": 2048000,
      "rowLimit": 10000
     },
     "inputWidgets": {},
     "nuid": "015471de-964c-445f-8c1d-0c7b6e05d501",
     "showTitle": false,
     "title": ""
    }
   },
   "outputs": [],
   "source": [
    "service_credential = dbutils.secrets.get(scope=\"key-vault-scope1\",key=\"secretkey\")\n"
   ]
  },
  {
   "cell_type": "code",
   "execution_count": 0,
   "metadata": {
    "application/vnd.databricks.v1+cell": {
     "cellMetadata": {
      "byteLimit": 2048000,
      "rowLimit": 10000
     },
     "inputWidgets": {},
     "nuid": "93e6eaf9-e917-49b2-a3bb-9c260c01818f",
     "showTitle": false,
     "title": ""
    }
   },
   "outputs": [],
   "source": [
    "\n",
    "\n",
    "\n",
    "configs = {\"fs.azure.account.auth.type\": \"OAuth\",\n",
    "\"fs.azure.account.oauth.provider.type\": \"org.apache.hadoop.fs.azurebfs.oauth2.ClientCredsTokenProvider\",\n",
    "\"fs.azure.account.oauth2.client.id\": \"8a00d73d-c9d6-4a27-823f-8fe22afc957b\" ,\n",
    "\"fs.azure.account.oauth2.client.secret\": service_credential,\n",
    "\"fs.azure.account.oauth2.client.endpoint\": \"https://login.microsoftonline.com/d1c47a41-82ac-441d-91bb-8035c959c41b/oauth2/token\"}\n"
   ]
  },
  {
   "cell_type": "code",
   "execution_count": 0,
   "metadata": {
    "application/vnd.databricks.v1+cell": {
     "cellMetadata": {
      "byteLimit": 2048000,
      "rowLimit": 10000
     },
     "inputWidgets": {},
     "nuid": "35548dbc-d359-4bb0-90ed-2d6fa0e4cfab",
     "showTitle": false,
     "title": ""
    }
   },
   "outputs": [
    {
     "output_type": "execute_result",
     "data": {
      "text/plain": [
       "True"
      ]
     },
     "execution_count": 4,
     "metadata": {},
     "output_type": "execute_result"
    }
   ],
   "source": [
    "dbutils.fs.mount(\n",
    "source = \"abfss://tokyo-olympic-data@olympicdatastorage.dfs.core.windows.net\", # container@storage_account_name\n",
    "mount_point = \"/mnt/tokyoolympic\",\n",
    "extra_configs = configs)"
   ]
  },
  {
   "cell_type": "code",
   "execution_count": 0,
   "metadata": {
    "application/vnd.databricks.v1+cell": {
     "cellMetadata": {
      "byteLimit": 2048000,
      "rowLimit": 10000
     },
     "inputWidgets": {},
     "nuid": "5450ce7d-65b6-4f8b-9332-6520dd0e1832",
     "showTitle": false,
     "title": ""
    }
   },
   "outputs": [
    {
     "output_type": "display_data",
     "data": {
      "text/html": [
       "<style scoped>\n",
       "  .table-result-container {\n",
       "    max-height: 300px;\n",
       "    overflow: auto;\n",
       "  }\n",
       "  table, th, td {\n",
       "    border: 1px solid black;\n",
       "    border-collapse: collapse;\n",
       "  }\n",
       "  th, td {\n",
       "    padding: 5px;\n",
       "  }\n",
       "  th {\n",
       "    text-align: left;\n",
       "  }\n",
       "</style><div class='table-result-container'><table class='table-result'><thead style='background-color: white'><tr><th>path</th><th>name</th><th>size</th><th>modificationTime</th></tr></thead><tbody><tr><td>dbfs:/mnt/tokyoolympic/raw-data/</td><td>raw-data/</td><td>0</td><td>1700628277000</td></tr><tr><td>dbfs:/mnt/tokyoolympic/transformed-data/</td><td>transformed-data/</td><td>0</td><td>1700628310000</td></tr></tbody></table></div>"
      ]
     },
     "metadata": {
      "application/vnd.databricks.v1+output": {
       "addedWidgets": {},
       "aggData": [],
       "aggError": "",
       "aggOverflow": false,
       "aggSchema": [],
       "aggSeriesLimitReached": false,
       "aggType": "",
       "arguments": {},
       "columnCustomDisplayInfos": {},
       "data": [
        [
         "dbfs:/mnt/tokyoolympic/raw-data/",
         "raw-data/",
         0,
         1700628277000
        ],
        [
         "dbfs:/mnt/tokyoolympic/transformed-data/",
         "transformed-data/",
         0,
         1700628310000
        ]
       ],
       "datasetInfos": [],
       "dbfsResultPath": null,
       "isJsonSchema": true,
       "metadata": {
        "isDbfsCommandResult": false
       },
       "overflow": false,
       "plotOptions": {
        "customPlotOptions": {},
        "displayType": "table",
        "pivotAggregation": null,
        "pivotColumns": null,
        "xColumns": null,
        "yColumns": null
       },
       "removedWidgets": [],
       "schema": [
        {
         "metadata": "{}",
         "name": "path",
         "type": "\"string\""
        },
        {
         "metadata": "{}",
         "name": "name",
         "type": "\"string\""
        },
        {
         "metadata": "{}",
         "name": "size",
         "type": "\"long\""
        },
        {
         "metadata": "{}",
         "name": "modificationTime",
         "type": "\"long\""
        }
       ],
       "type": "table"
      }
     },
     "output_type": "display_data"
    }
   ],
   "source": [
    "%fs\n",
    "ls \"/mnt/tokyoolympic\""
   ]
  },
  {
   "cell_type": "code",
   "execution_count": 0,
   "metadata": {
    "application/vnd.databricks.v1+cell": {
     "cellMetadata": {
      "byteLimit": 2048000,
      "rowLimit": 10000
     },
     "inputWidgets": {},
     "nuid": "860d5e32-d579-41ec-80a9-471109247421",
     "showTitle": false,
     "title": ""
    }
   },
   "outputs": [
    {
     "output_type": "execute_result",
     "data": {
      "text/html": [
       "\n",
       "            <div>\n",
       "                <p><b>SparkSession - hive</b></p>\n",
       "                \n",
       "        <div>\n",
       "            <p><b>SparkContext</b></p>\n",
       "\n",
       "            <p><a href=\"/?o=2268383470610419#setting/sparkui/1122-075532-hhdyjm0j/driver-4255873853736283192\">Spark UI</a></p>\n",
       "\n",
       "            <dl>\n",
       "              <dt>Version</dt>\n",
       "                <dd><code>v3.4.1</code></dd>\n",
       "              <dt>Master</dt>\n",
       "                <dd><code>local[*, 4]</code></dd>\n",
       "              <dt>AppName</dt>\n",
       "                <dd><code>Databricks Shell</code></dd>\n",
       "            </dl>\n",
       "        </div>\n",
       "        \n",
       "            </div>\n",
       "        "
      ],
      "text/plain": [
       "<pyspark.sql.session.SparkSession at 0x7f9302e63c40>"
      ]
     },
     "execution_count": 3,
     "metadata": {},
     "output_type": "execute_result"
    }
   ],
   "source": [
    "spark"
   ]
  },
  {
   "cell_type": "code",
   "execution_count": 0,
   "metadata": {
    "application/vnd.databricks.v1+cell": {
     "cellMetadata": {
      "byteLimit": 2048000,
      "rowLimit": 10000
     },
     "inputWidgets": {},
     "nuid": "d1091186-e57d-4fd5-8bac-6386b752928a",
     "showTitle": false,
     "title": ""
    }
   },
   "outputs": [],
   "source": [
    "athletes = spark.read.format(\"csv\").option(\"header\",\"true\").option(\"inferSchema\",\"true\").load(\"/mnt/tokyoolymic/raw-data/athletes.csv\")\n",
    "coaches = spark.read.format(\"csv\").option(\"header\",\"true\").option(\"inferSchema\",\"true\").load(\"/mnt/tokyoolymic/raw-data/coaches.csv\")\n",
    "entriesgender = spark.read.format(\"csv\").option(\"header\",\"true\").option(\"inferSchema\",\"true\").load(\"/mnt/tokyoolymic/raw-data/entriesgender.csv\")\n",
    "medals = spark.read.format(\"csv\").option(\"header\",\"true\").option(\"inferSchema\",\"true\").load(\"/mnt/tokyoolymic/raw-data/medals.csv\")\n",
    "teams = spark.read.format(\"csv\").option(\"header\",\"true\").option(\"inferSchema\",\"true\").load(\"/mnt/tokyoolymic/raw-data/teams.csv\")\n"
   ]
  },
  {
   "cell_type": "code",
   "execution_count": 0,
   "metadata": {
    "application/vnd.databricks.v1+cell": {
     "cellMetadata": {
      "byteLimit": 2048000,
      "rowLimit": 10000
     },
     "inputWidgets": {},
     "nuid": "740ca5a1-2a44-4854-8a95-4e6e77c3c1f2",
     "showTitle": false,
     "title": ""
    }
   },
   "outputs": [
    {
     "output_type": "stream",
     "name": "stdout",
     "output_type": "stream",
     "text": [
      "+--------------------+--------------------+-------------------+\n|          PersonName|             Country|         Discipline|\n+--------------------+--------------------+-------------------+\n|     AALERUD Katrine|              Norway|       Cycling Road|\n|         ABAD Nestor|               Spain|Artistic Gymnastics|\n|   ABAGNALE Giovanni|               Italy|             Rowing|\n|      ABALDE Alberto|               Spain|         Basketball|\n|       ABALDE Tamara|               Spain|         Basketball|\n|           ABALO Luc|              France|           Handball|\n|        ABAROA Cesar|               Chile|             Rowing|\n|       ABASS Abobakr|               Sudan|           Swimming|\n|    ABBASALI Hamideh|Islamic Republic ...|             Karate|\n|       ABBASOV Islam|          Azerbaijan|          Wrestling|\n|        ABBINGH Lois|         Netherlands|           Handball|\n|         ABBOT Emily|           Australia|Rhythmic Gymnastics|\n|       ABBOTT Monica|United States of ...|  Baseball/Softball|\n|ABDALLA Abubaker ...|               Qatar|          Athletics|\n|      ABDALLA Maryam|               Egypt|  Artistic Swimming|\n|      ABDALLAH Shahd|               Egypt|  Artistic Swimming|\n| ABDALRASOOL Mohamed|               Sudan|               Judo|\n|   ABDEL LATIF Radwa|               Egypt|           Shooting|\n|    ABDEL RAZEK Samy|               Egypt|           Shooting|\n|   ABDELAZIZ Abdalla|               Egypt|             Karate|\n+--------------------+--------------------+-------------------+\nonly showing top 20 rows\n\n"
     ]
    }
   ],
   "source": [
    "athletes.show()"
   ]
  },
  {
   "cell_type": "code",
   "execution_count": 0,
   "metadata": {
    "application/vnd.databricks.v1+cell": {
     "cellMetadata": {
      "byteLimit": 2048000,
      "rowLimit": 10000
     },
     "inputWidgets": {},
     "nuid": "07703a5a-8546-4b0b-9859-0887345df9d2",
     "showTitle": false,
     "title": ""
    }
   },
   "outputs": [
    {
     "output_type": "stream",
     "name": "stdout",
     "output_type": "stream",
     "text": [
      "root\n |-- PersonName: string (nullable = true)\n |-- Country: string (nullable = true)\n |-- Discipline: string (nullable = true)\n\n"
     ]
    }
   ],
   "source": [
    "athletes.printSchema()"
   ]
  },
  {
   "cell_type": "code",
   "execution_count": 0,
   "metadata": {
    "application/vnd.databricks.v1+cell": {
     "cellMetadata": {
      "byteLimit": 2048000,
      "rowLimit": 10000
     },
     "inputWidgets": {},
     "nuid": "9e776db4-d637-4dc1-a04e-98005d8e6a7d",
     "showTitle": false,
     "title": ""
    }
   },
   "outputs": [
    {
     "output_type": "stream",
     "name": "stdout",
     "output_type": "stream",
     "text": [
      "+--------------------+------+----+-----+\n|          Discipline|Female|Male|Total|\n+--------------------+------+----+-----+\n|      3x3 Basketball|    32|  32|   64|\n|             Archery|    64|  64|  128|\n| Artistic Gymnastics|    98|  98|  196|\n|   Artistic Swimming|   105|   0|  105|\n|           Athletics|   969|1072| 2041|\n|           Badminton|    86|  87|  173|\n|   Baseball/Softball|    90| 144|  234|\n|          Basketball|   144| 144|  288|\n|    Beach Volleyball|    48|  48|   96|\n|              Boxing|   102| 187|  289|\n|        Canoe Slalom|    41|  41|   82|\n|        Canoe Sprint|   123| 126|  249|\n|Cycling BMX Frees...|    10|   9|   19|\n|  Cycling BMX Racing|    24|  24|   48|\n|Cycling Mountain ...|    38|  38|   76|\n|        Cycling Road|    70| 131|  201|\n|       Cycling Track|    90|  99|  189|\n|              Diving|    72|  71|  143|\n|          Equestrian|    73| 125|  198|\n|             Fencing|   107| 108|  215|\n+--------------------+------+----+-----+\nonly showing top 20 rows\n\n"
     ]
    }
   ],
   "source": [
    "entriesgender.show()"
   ]
  },
  {
   "cell_type": "code",
   "execution_count": 0,
   "metadata": {
    "application/vnd.databricks.v1+cell": {
     "cellMetadata": {
      "byteLimit": 2048000,
      "rowLimit": 10000
     },
     "inputWidgets": {},
     "nuid": "9f4598e9-c66c-4fb7-aa2b-e7d4e53b477a",
     "showTitle": false,
     "title": ""
    }
   },
   "outputs": [
    {
     "output_type": "stream",
     "name": "stdout",
     "output_type": "stream",
     "text": [
      "root\n |-- Discipline: string (nullable = true)\n |-- Female: integer (nullable = true)\n |-- Male: integer (nullable = true)\n |-- Total: integer (nullable = true)\n\n"
     ]
    }
   ],
   "source": [
    "entriesgender.printSchema()"
   ]
  },
  {
   "cell_type": "code",
   "execution_count": 0,
   "metadata": {
    "application/vnd.databricks.v1+cell": {
     "cellMetadata": {
      "byteLimit": 2048000,
      "rowLimit": 10000
     },
     "inputWidgets": {},
     "nuid": "7d16d7f0-f57a-4648-8330-48f51f391dc2",
     "showTitle": false,
     "title": ""
    }
   },
   "outputs": [
    {
     "output_type": "stream",
     "name": "stdout",
     "output_type": "stream",
     "text": [
      "+----+--------------------+----+------+------+-----+-------------+\n|Rank|        Team_Country|Gold|Silver|Bronze|Total|Rank by Total|\n+----+--------------------+----+------+------+-----+-------------+\n|   1|United States of ...|  39|    41|    33|  113|            1|\n|   2|People's Republic...|  38|    32|    18|   88|            2|\n|   3|               Japan|  27|    14|    17|   58|            5|\n|   4|       Great Britain|  22|    21|    22|   65|            4|\n|   5|                 ROC|  20|    28|    23|   71|            3|\n|   6|           Australia|  17|     7|    22|   46|            6|\n|   7|         Netherlands|  10|    12|    14|   36|            9|\n|   8|              France|  10|    12|    11|   33|           10|\n|   9|             Germany|  10|    11|    16|   37|            8|\n|  10|               Italy|  10|    10|    20|   40|            7|\n|  11|              Canada|   7|     6|    11|   24|           11|\n|  12|              Brazil|   7|     6|     8|   21|           12|\n|  13|         New Zealand|   7|     6|     7|   20|           13|\n|  14|                Cuba|   7|     3|     5|   15|           18|\n|  15|             Hungary|   6|     7|     7|   20|           13|\n|  16|   Republic of Korea|   6|     4|    10|   20|           13|\n|  17|              Poland|   4|     5|     5|   14|           19|\n|  18|      Czech Republic|   4|     4|     3|   11|           23|\n|  19|               Kenya|   4|     4|     2|   10|           25|\n|  20|              Norway|   4|     2|     2|    8|           29|\n+----+--------------------+----+------+------+-----+-------------+\nonly showing top 20 rows\n\n"
     ]
    }
   ],
   "source": [
    "medals.show()"
   ]
  },
  {
   "cell_type": "code",
   "execution_count": 0,
   "metadata": {
    "application/vnd.databricks.v1+cell": {
     "cellMetadata": {
      "byteLimit": 2048000,
      "rowLimit": 10000
     },
     "inputWidgets": {},
     "nuid": "32e40118-86ef-49f8-b8a5-77c54f81d8e9",
     "showTitle": false,
     "title": ""
    }
   },
   "outputs": [
    {
     "output_type": "stream",
     "name": "stdout",
     "output_type": "stream",
     "text": [
      "root\n |-- Rank: integer (nullable = true)\n |-- Team_Country: string (nullable = true)\n |-- Gold: integer (nullable = true)\n |-- Silver: integer (nullable = true)\n |-- Bronze: integer (nullable = true)\n |-- Total: integer (nullable = true)\n |-- Rank by Total: integer (nullable = true)\n\n"
     ]
    }
   ],
   "source": [
    "medals.printSchema()"
   ]
  },
  {
   "cell_type": "code",
   "execution_count": 0,
   "metadata": {
    "application/vnd.databricks.v1+cell": {
     "cellMetadata": {
      "byteLimit": 2048000,
      "rowLimit": 10000
     },
     "inputWidgets": {},
     "nuid": "153f8889-4d63-4e6b-8825-78ac2b6d05a8",
     "showTitle": false,
     "title": ""
    }
   },
   "outputs": [
    {
     "output_type": "stream",
     "name": "stdout",
     "output_type": "stream",
     "text": [
      "+-------------+--------------+--------------------+------------+\n|     TeamName|    Discipline|             Country|       Event|\n+-------------+--------------+--------------------+------------+\n|      Belgium|3x3 Basketball|             Belgium|         Men|\n|        China|3x3 Basketball|People's Republic...|         Men|\n|        China|3x3 Basketball|People's Republic...|       Women|\n|       France|3x3 Basketball|              France|       Women|\n|        Italy|3x3 Basketball|               Italy|       Women|\n|        Japan|3x3 Basketball|               Japan|         Men|\n|        Japan|3x3 Basketball|               Japan|       Women|\n|       Latvia|3x3 Basketball|              Latvia|         Men|\n|     Mongolia|3x3 Basketball|            Mongolia|       Women|\n|  Netherlands|3x3 Basketball|         Netherlands|         Men|\n|       Poland|3x3 Basketball|              Poland|         Men|\n|          ROC|3x3 Basketball|                 ROC|         Men|\n|          ROC|3x3 Basketball|                 ROC|       Women|\n|      Romania|3x3 Basketball|             Romania|       Women|\n|       Serbia|3x3 Basketball|              Serbia|         Men|\n|United States|3x3 Basketball|United States of ...|       Women|\n|    Australia|       Archery|           Australia|  Men's Team|\n|    Australia|       Archery|           Australia|  Mixed Team|\n|   Bangladesh|       Archery|          Bangladesh|  Mixed Team|\n|      Belarus|       Archery|             Belarus|Women's Team|\n+-------------+--------------+--------------------+------------+\nonly showing top 20 rows\n\n"
     ]
    }
   ],
   "source": [
    "teams.show()"
   ]
  },
  {
   "cell_type": "code",
   "execution_count": 0,
   "metadata": {
    "application/vnd.databricks.v1+cell": {
     "cellMetadata": {
      "byteLimit": 2048000,
      "rowLimit": 10000
     },
     "inputWidgets": {},
     "nuid": "addb66dc-02b9-4a6e-bce7-7ba4bd244791",
     "showTitle": false,
     "title": ""
    }
   },
   "outputs": [
    {
     "output_type": "stream",
     "name": "stdout",
     "output_type": "stream",
     "text": [
      "root\n |-- TeamName: string (nullable = true)\n |-- Discipline: string (nullable = true)\n |-- Country: string (nullable = true)\n |-- Event: string (nullable = true)\n\n"
     ]
    }
   ],
   "source": [
    "teams.printSchema()"
   ]
  },
  {
   "cell_type": "code",
   "execution_count": 0,
   "metadata": {
    "application/vnd.databricks.v1+cell": {
     "cellMetadata": {
      "byteLimit": 2048000,
      "rowLimit": 10000
     },
     "inputWidgets": {},
     "nuid": "fcf13803-55a1-403c-8bf3-ab62a604ed48",
     "showTitle": true,
     "title": "Analysis On Athletes data"
    }
   },
   "outputs": [
    {
     "output_type": "stream",
     "name": "stdout",
     "output_type": "stream",
     "text": [
      "+--------------------+--------------------+-------------------+\n|          PersonName|             Country|         Discipline|\n+--------------------+--------------------+-------------------+\n|     AALERUD Katrine|              Norway|       Cycling Road|\n|         ABAD Nestor|               Spain|Artistic Gymnastics|\n|   ABAGNALE Giovanni|               Italy|             Rowing|\n|      ABALDE Alberto|               Spain|         Basketball|\n|       ABALDE Tamara|               Spain|         Basketball|\n|           ABALO Luc|              France|           Handball|\n|        ABAROA Cesar|               Chile|             Rowing|\n|       ABASS Abobakr|               Sudan|           Swimming|\n|    ABBASALI Hamideh|Islamic Republic ...|             Karate|\n|       ABBASOV Islam|          Azerbaijan|          Wrestling|\n|        ABBINGH Lois|         Netherlands|           Handball|\n|         ABBOT Emily|           Australia|Rhythmic Gymnastics|\n|       ABBOTT Monica|United States of ...|  Baseball/Softball|\n|ABDALLA Abubaker ...|               Qatar|          Athletics|\n|      ABDALLA Maryam|               Egypt|  Artistic Swimming|\n|      ABDALLAH Shahd|               Egypt|  Artistic Swimming|\n| ABDALRASOOL Mohamed|               Sudan|               Judo|\n|   ABDEL LATIF Radwa|               Egypt|           Shooting|\n|    ABDEL RAZEK Samy|               Egypt|           Shooting|\n|   ABDELAZIZ Abdalla|               Egypt|             Karate|\n+--------------------+--------------------+-------------------+\nonly showing top 20 rows\n\n"
     ]
    }
   ],
   "source": [
    "\n",
    "#Analysis On Athletes data\n",
    "athletes.show()"
   ]
  },
  {
   "cell_type": "code",
   "execution_count": 0,
   "metadata": {
    "application/vnd.databricks.v1+cell": {
     "cellMetadata": {
      "byteLimit": 2048000,
      "rowLimit": 10000
     },
     "inputWidgets": {},
     "nuid": "04d561ae-3c09-4375-9141-937068cae7ad",
     "showTitle": true,
     "title": "Countries with highest number of participating athletes"
    }
   },
   "outputs": [
    {
     "output_type": "stream",
     "name": "stdout",
     "output_type": "stream",
     "text": [
      "+--------------------+-----+\n|             Country|count|\n+--------------------+-----+\n|United States of ...|  615|\n|               Japan|  586|\n|           Australia|  470|\n|People's Republic...|  401|\n|             Germany|  400|\n|              France|  377|\n|              Canada|  368|\n|       Great Britain|  366|\n|               Italy|  356|\n|               Spain|  324|\n|                 ROC|  318|\n|              Brazil|  291|\n|         Netherlands|  274|\n|   Republic of Korea|  223|\n|         New Zealand|  202|\n|              Poland|  195|\n|           Argentina|  180|\n|        South Africa|  171|\n|              Mexico|  155|\n|             Hungary|  155|\n+--------------------+-----+\nonly showing top 20 rows\n\n"
     ]
    }
   ],
   "source": [
    "#Countries with highest number of participating athletes\n",
    "athletes.groupBy(\"Country\").count().orderBy(\"count\",ascending=False).show()"
   ]
  },
  {
   "cell_type": "code",
   "execution_count": 0,
   "metadata": {
    "application/vnd.databricks.v1+cell": {
     "cellMetadata": {
      "byteLimit": 2048000,
      "rowLimit": 10000
     },
     "inputWidgets": {},
     "nuid": "60e1b55b-05dd-4beb-80d5-764db995379c",
     "showTitle": true,
     "title": "Most Participated Sports"
    }
   },
   "outputs": [
    {
     "output_type": "stream",
     "name": "stdout",
     "output_type": "stream",
     "text": [
      "+-----------------+-----+\n|       Discipline|count|\n+-----------------+-----+\n|        Athletics| 2068|\n|         Swimming|  743|\n|         Football|  567|\n|           Rowing|  496|\n|           Hockey|  406|\n|             Judo|  373|\n|         Handball|  343|\n|         Shooting|  342|\n|          Sailing|  336|\n|     Rugby Sevens|  283|\n|       Basketball|  280|\n|        Wrestling|  279|\n|       Volleyball|  274|\n|           Boxing|  270|\n|       Water Polo|  269|\n|          Fencing|  249|\n|       Equestrian|  237|\n|     Canoe Sprint|  236|\n|Baseball/Softball|  220|\n|    Cycling Track|  208|\n+-----------------+-----+\nonly showing top 20 rows\n\n"
     ]
    }
   ],
   "source": [
    "\n",
    "#Most Participated Sports\n",
    "athletes.groupBy(\"Discipline\").count().orderBy(\"count\",ascending=False).show()"
   ]
  },
  {
   "cell_type": "code",
   "execution_count": 0,
   "metadata": {
    "application/vnd.databricks.v1+cell": {
     "cellMetadata": {
      "byteLimit": 2048000,
      "rowLimit": 10000
     },
     "inputWidgets": {},
     "nuid": "abe51afd-84a6-4b04-80de-56f956aa9eeb",
     "showTitle": true,
     "title": "Least Participated Sports"
    }
   },
   "outputs": [
    {
     "output_type": "stream",
     "name": "stdout",
     "output_type": "stream",
     "text": [
      "+--------------------+-----+\n|          Discipline|count|\n+--------------------+-----+\n|Cycling BMX Frees...|   19|\n|Trampoline Gymnas...|   31|\n|      Sport Climbing|   37|\n|             Surfing|   38|\n|  Cycling BMX Racing|   43|\n|   Marathon Swimming|   49|\n|      3x3 Basketball|   62|\n|   Modern Pentathlon|   69|\n|Cycling Mountain ...|   74|\n|       Skateboarding|   77|\n|              Karate|   77|\n|        Canoe Slalom|   78|\n|    Beach Volleyball|   90|\n| Rhythmic Gymnastics|   95|\n|   Artistic Swimming|   98|\n|           Triathlon|  106|\n|                Golf|  115|\n|             Archery|  122|\n|           Taekwondo|  123|\n|              Diving|  133|\n+--------------------+-----+\nonly showing top 20 rows\n\n"
     ]
    }
   ],
   "source": [
    "\n",
    "#Least Participated Sports\n",
    "athletes.groupBy(\"Discipline\").count().orderBy(\"count\",ascending=True).show()"
   ]
  },
  {
   "cell_type": "code",
   "execution_count": 0,
   "metadata": {
    "application/vnd.databricks.v1+cell": {
     "cellMetadata": {
      "byteLimit": 2048000,
      "rowLimit": 10000
     },
     "inputWidgets": {},
     "nuid": "bdd111c6-5bf3-46dd-a5cb-5d04abdb8b9f",
     "showTitle": true,
     "title": "Athletes who participate in multiple sports or discipline "
    }
   },
   "outputs": [
    {
     "output_type": "stream",
     "name": "stdout",
     "output_type": "stream",
     "text": [
      "+--------------------+-----------+\n|          PersonName|Sport_Count|\n+--------------------+-----------+\n|         PEREZ Paola|          2|\n|         HAVIK Yoeri|          2|\n|       GANNA Filippo|          2|\n|       WATANABE Yuta|          2|\n|       ALVAREZ Jorge|          2|\n|van ROUWENDAAL Sh...|          2|\n|         PEREZ Maria|          2|\n|PALTRINIERI Gregorio|          2|\n|         KIM Hyunsoo|          2|\n|           WANG Yang|          2|\n|   WELLBROCK Florian|          2|\n|          HALL James|          2|\n|       MARTIN Daniel|          2|\n|       KOPECKY Lotte|          2|\n|     KURBANOV Ruslan|          2|\n|        DYGERT Chloe|          2|\n|          SUN Jiajun|          2|\n|             LI Qian|          2|\n|           ZHANG Xin|          2|\n|       KOVACS Zsofia|          2|\n+--------------------+-----------+\nonly showing top 20 rows\n\n"
     ]
    }
   ],
   "source": [
    "\n",
    "#Athletes who participate in multiple sports or discipline \n",
    "multi_sport_athletes = athletes.groupBy(\"PersonName\").agg(countDistinct(\"Discipline\").alias(\"Sport_Count\")).filter(\"Sport_Count > 1\")\n",
    "multi_sport_athletes.show()"
   ]
  },
  {
   "cell_type": "code",
   "execution_count": 0,
   "metadata": {
    "application/vnd.databricks.v1+cell": {
     "cellMetadata": {
      "byteLimit": 2048000,
      "rowLimit": 10000
     },
     "inputWidgets": {},
     "nuid": "4b29ed83-09d7-4698-be61-0e6f824ff21a",
     "showTitle": false,
     "title": ""
    }
   },
   "outputs": [
    {
     "output_type": "stream",
     "name": "stdout",
     "output_type": "stream",
     "text": [
      "+----------------+--------------------+----------+\n|      PersonName|             Country|Discipline|\n+----------------+--------------------+----------+\n|  ANDREW Michael|United States of ...|  Swimming|\n|      APPLE Zach|United States of ...|  Swimming|\n|ARMSTRONG Joseph|United States of ...|  Swimming|\n|    BACON Phoebe|United States of ...|  Swimming|\n|    BENTZ Gunnar|United States of ...|  Swimming|\n|BRINEGAR Michael|United States of ...|  Swimming|\n|     BROWN Erika|United States of ...|  Swimming|\n|   CURZAN Claire|United States of ...|  Swimming|\n|   de LOOF Catie|United States of ...|  Swimming|\n|   DOUGLASS Kate|United States of ...|  Swimming|\n|        FINK Nic|United States of ...|  Swimming|\n|    FINKE Robert|United States of ...|  Swimming|\n| FLICKINGER Hali|United States of ...|  Swimming|\n|    GRIMES Katie|United States of ...|  Swimming|\n|    HAAS Townley|United States of ...|  Swimming|\n|    HARTING Zach|United States of ...|  Swimming|\n|   HINDS Natalie|United States of ...|  Swimming|\n|     HUSKE Torri|United States of ...|  Swimming|\n|    JACOBY Lydia|United States of ...|  Swimming|\n|    KALISZ Chase|United States of ...|  Swimming|\n+----------------+--------------------+----------+\nonly showing top 20 rows\n\n"
     ]
    }
   ],
   "source": [
    "filtered_athletes = athletes.filter((athletes[\"Country\"] == \"United States of America\") & (athletes[\"Discipline\"] == \"Swimming\"))\n",
    "\n",
    "filtered_athletes.show()"
   ]
  },
  {
   "cell_type": "code",
   "execution_count": 0,
   "metadata": {
    "application/vnd.databricks.v1+cell": {
     "cellMetadata": {
      "byteLimit": 2048000,
      "rowLimit": 10000
     },
     "inputWidgets": {},
     "nuid": "5a98016d-7c7f-4a55-aa4d-6859f765a599",
     "showTitle": true,
     "title": "Analysis on teams data "
    }
   },
   "outputs": [
    {
     "output_type": "stream",
     "name": "stdout",
     "output_type": "stream",
     "text": [
      "+-------------+--------------+--------------------+------------+\n|     TeamName|    Discipline|             Country|       Event|\n+-------------+--------------+--------------------+------------+\n|      Belgium|3x3 Basketball|             Belgium|         Men|\n|        China|3x3 Basketball|People's Republic...|         Men|\n|        China|3x3 Basketball|People's Republic...|       Women|\n|       France|3x3 Basketball|              France|       Women|\n|        Italy|3x3 Basketball|               Italy|       Women|\n|        Japan|3x3 Basketball|               Japan|         Men|\n|        Japan|3x3 Basketball|               Japan|       Women|\n|       Latvia|3x3 Basketball|              Latvia|         Men|\n|     Mongolia|3x3 Basketball|            Mongolia|       Women|\n|  Netherlands|3x3 Basketball|         Netherlands|         Men|\n|       Poland|3x3 Basketball|              Poland|         Men|\n|          ROC|3x3 Basketball|                 ROC|         Men|\n|          ROC|3x3 Basketball|                 ROC|       Women|\n|      Romania|3x3 Basketball|             Romania|       Women|\n|       Serbia|3x3 Basketball|              Serbia|         Men|\n|United States|3x3 Basketball|United States of ...|       Women|\n|    Australia|       Archery|           Australia|  Men's Team|\n|    Australia|       Archery|           Australia|  Mixed Team|\n|   Bangladesh|       Archery|          Bangladesh|  Mixed Team|\n|      Belarus|       Archery|             Belarus|Women's Team|\n+-------------+--------------+--------------------+------------+\nonly showing top 20 rows\n\n"
     ]
    }
   ],
   "source": [
    "#Analysis on teams data \n",
    "teams.show()"
   ]
  },
  {
   "cell_type": "code",
   "execution_count": 0,
   "metadata": {
    "application/vnd.databricks.v1+cell": {
     "cellMetadata": {
      "byteLimit": 2048000,
      "rowLimit": 10000
     },
     "inputWidgets": {},
     "nuid": "f765fcff-cba1-4432-9785-aea73160249f",
     "showTitle": true,
     "title": "How many teams were participated from each country "
    }
   },
   "outputs": [
    {
     "output_type": "stream",
     "name": "stdout",
     "output_type": "stream",
     "text": [
      "+-------------+-------------+-----+\n|     TeamName|   Discipline|count|\n+-------------+-------------+-----+\n|          ROC|     Swimming|    7|\n|    Australia|     Swimming|    7|\n|United States|     Swimming|    7|\n|      Germany|     Swimming|    7|\n|        Japan|     Swimming|    7|\n|        Italy|     Swimming|    6|\n|United States|      Fencing|    6|\n|Great Britain|     Swimming|    6|\n|          ROC|      Fencing|    6|\n|        China|     Swimming|    6|\n|       Brazil|     Swimming|    6|\n|        Italy|      Fencing|    6|\n|       Poland|     Swimming|    6|\n|      Germany|Cycling Track|    6|\n|       Canada|     Swimming|    6|\n|        Japan|      Fencing|    5|\n|Great Britain|Cycling Track|    5|\n|United States|    Athletics|    5|\n|       France|     Swimming|    5|\n|        Italy|    Athletics|    5|\n+-------------+-------------+-----+\nonly showing top 20 rows\n\n"
     ]
    }
   ],
   "source": [
    "#How many teams were participated from each country \n",
    "teams.groupBy(\"TeamName\",\"Discipline\").count().orderBy(\"count\",ascending=False).show()"
   ]
  },
  {
   "cell_type": "code",
   "execution_count": 0,
   "metadata": {
    "application/vnd.databricks.v1+cell": {
     "cellMetadata": {
      "byteLimit": 2048000,
      "rowLimit": 10000
     },
     "inputWidgets": {},
     "nuid": "3cb11382-d2a1-4ad2-a13b-982f3a1890a3",
     "showTitle": true,
     "title": "How many teams were participated from each country "
    }
   },
   "outputs": [
    {
     "output_type": "stream",
     "name": "stdout",
     "output_type": "stream",
     "text": [
      "+-------------------+-----+\n|         Discipline|count|\n+-------------------+-----+\n|           Swimming|  113|\n|          Athletics|   79|\n|      Cycling Track|   64|\n|            Archery|   53|\n|            Fencing|   52|\n|       Table Tennis|   48|\n|   Beach Volleyball|   48|\n|  Artistic Swimming|   32|\n|           Football|   28|\n|           Handball|   24|\n|         Basketball|   24|\n|Artistic Gymnastics|   24|\n|             Hockey|   24|\n|       Rugby Sevens|   24|\n|         Volleyball|   24|\n|         Water Polo|   22|\n|          Triathlon|   18|\n|     3x3 Basketball|   16|\n|Rhythmic Gymnastics|   14|\n|  Baseball/Softball|   12|\n+-------------------+-----+\n\n"
     ]
    }
   ],
   "source": [
    "#How many teams were participated from each country \n",
    "teams.groupBy(\"Discipline\").count().orderBy(\"count\",ascending=False).show()"
   ]
  },
  {
   "cell_type": "code",
   "execution_count": 0,
   "metadata": {
    "application/vnd.databricks.v1+cell": {
     "cellMetadata": {
      "byteLimit": 2048000,
      "rowLimit": 10000
     },
     "inputWidgets": {},
     "nuid": "04851b27-37f5-470f-bd32-ea2e79ea67bd",
     "showTitle": true,
     "title": "Top disciplines in which Women participated "
    }
   },
   "outputs": [
    {
     "output_type": "stream",
     "name": "stdout",
     "output_type": "stream",
     "text": [
      "+----------------+-----+\n|      Discipline|count|\n+----------------+-----+\n|Beach Volleyball|   24|\n|      Volleyball|   12|\n|      Basketball|   12|\n|          Hockey|   12|\n|    Rugby Sevens|   12|\n|        Football|   12|\n|        Handball|   12|\n|      Water Polo|   10|\n|  3x3 Basketball|    8|\n+----------------+-----+\n\n"
     ]
    }
   ],
   "source": [
    "\n",
    "#Top disciplines in which Women participated \n",
    "Women= teams.filter(teams[\"Event\"]==\"Women\").groupBy(\"Discipline\").count().orderBy(\"count\",ascending=False)\n",
    "\n",
    "Women.show()"
   ]
  },
  {
   "cell_type": "code",
   "execution_count": 0,
   "metadata": {
    "application/vnd.databricks.v1+cell": {
     "cellMetadata": {
      "byteLimit": 2048000,
      "rowLimit": 10000
     },
     "inputWidgets": {},
     "nuid": "da8c9a91-140a-46c3-95fe-565214e01702",
     "showTitle": true,
     "title": "Top disciplines in which Men participated "
    }
   },
   "outputs": [
    {
     "output_type": "stream",
     "name": "stdout",
     "output_type": "stream",
     "text": [
      "+----------------+-----+\n|      Discipline|count|\n+----------------+-----+\n|Beach Volleyball|   24|\n|        Football|   16|\n|      Water Polo|   12|\n|      Volleyball|   12|\n|    Rugby Sevens|   12|\n|      Basketball|   12|\n|          Hockey|   12|\n|        Handball|   12|\n|  3x3 Basketball|    8|\n+----------------+-----+\n\n"
     ]
    }
   ],
   "source": [
    "\n",
    "#Top disciplines in which Men participated \n",
    "Men= teams.filter(teams[\"Event\"]==\"Men\").groupBy(\"Discipline\").count().orderBy(\"count\",ascending=False)\n",
    "\n",
    "Men.show()"
   ]
  },
  {
   "cell_type": "code",
   "execution_count": 0,
   "metadata": {
    "application/vnd.databricks.v1+cell": {
     "cellMetadata": {
      "byteLimit": 2048000,
      "rowLimit": 10000
     },
     "inputWidgets": {},
     "nuid": "7420d30e-585f-4e4c-90df-d0f426aeb592",
     "showTitle": true,
     "title": "Disciplines or sports in which Women's Team participated "
    }
   },
   "outputs": [
    {
     "output_type": "stream",
     "name": "stdout",
     "output_type": "stream",
     "text": [
      "+-------------------+-----+\n|         Discipline|count|\n+-------------------+-----+\n|       Table Tennis|   16|\n|Artistic Gymnastics|   12|\n|            Archery|   12|\n+-------------------+-----+\n\n"
     ]
    }
   ],
   "source": [
    "#Disciplines or sports in which Women's Team participated \n",
    "womens_team= teams.filter(teams[\"Event\"]==\"Women's Team\").groupBy(\"Discipline\").count().orderBy(\"count\",ascending=False)\n",
    "\n",
    "womens_team.show()\n"
   ]
  },
  {
   "cell_type": "code",
   "execution_count": 0,
   "metadata": {
    "application/vnd.databricks.v1+cell": {
     "cellMetadata": {},
     "inputWidgets": {},
     "nuid": "b4a60c30-7fdd-4904-938c-3a8774c534af",
     "showTitle": true,
     "title": "Analysis on Coaches data"
    }
   },
   "outputs": [
    {
     "output_type": "stream",
     "name": "stdout",
     "output_type": "stream",
     "text": [
      "+--------------------+--------------------+-----------------+--------+\n|                Name|             Country|       Discipline|   Event|\n+--------------------+--------------------+-----------------+--------+\n|     ABDELMAGID Wael|               Egypt|         Football|    NULL|\n|           ABE Junya|               Japan|       Volleyball|    NULL|\n|       ABE Katsuhiko|               Japan|       Basketball|    NULL|\n|        ADAMA Cherif|       C�te d'Ivoire|         Football|    NULL|\n|          AGEBA Yuya|               Japan|       Volleyball|    NULL|\n|AIKMAN Siegfried ...|               Japan|           Hockey|     Men|\n|       AL SAADI Kais|             Germany|           Hockey|     Men|\n|       ALAMEDA Lonni|              Canada|Baseball/Softball|Softball|\n|     ALEKNO Vladimir|Islamic Republic ...|       Volleyball|     Men|\n|     ALEKSEEV Alexey|                 ROC|         Handball|   Women|\n|ALLER CARBALLO Ma...|               Spain|       Basketball|    NULL|\n|       ALSHEHRI Saad|        Saudi Arabia|         Football|     Men|\n|           ALY Kamal|               Egypt|         Football|    NULL|\n| AMAYA GAITAN Fabian|         Puerto Rico|       Basketball|    NULL|\n|    AMO AGUADO Pablo|               Spain|         Football|    NULL|\n|   ANDONOVSKI Vlatko|United States of ...|         Football|   Women|\n|        ANNAN Alyson|         Netherlands|           Hockey|   Women|\n|  ARNAU CREUS Xavier|               Japan|           Hockey|   Women|\n|       ARNOLD Graham|           Australia|         Football|     Men|\n|         AXNER Tomas|              Sweden|         Handball|   Women|\n+--------------------+--------------------+-----------------+--------+\nonly showing top 20 rows\n\n"
     ]
    }
   ],
   "source": [
    "\n",
    "#Analysis on Coaches data\n",
    "coaches.show()"
   ]
  },
  {
   "cell_type": "code",
   "execution_count": 0,
   "metadata": {
    "application/vnd.databricks.v1+cell": {
     "cellMetadata": {
      "byteLimit": 2048000,
      "rowLimit": 10000
     },
     "inputWidgets": {},
     "nuid": "0b9109ca-7563-41dd-b1fc-8f54106ec78d",
     "showTitle": true,
     "title": "Countries having highest number of coaches "
    }
   },
   "outputs": [
    {
     "output_type": "stream",
     "name": "stdout",
     "output_type": "stream",
     "text": [
      "+--------------------+-----+\n|             Country|count|\n+--------------------+-----+\n|               Japan|   19|\n|           Australia|   17|\n|United States of ...|   16|\n|              Canada|   15|\n|               Spain|   13|\n|               Italy|   10|\n|        South Africa|    8|\n|                 ROC|    8|\n|           Argentina|    8|\n|              France|    8|\n|People's Republic...|    8|\n|             Germany|    7|\n|              Brazil|    7|\n|       Great Britain|    7|\n|         New Zealand|    7|\n|              Mexico|    7|\n|               Egypt|    6|\n|         Netherlands|    6|\n|   Republic of Korea|    6|\n|               India|    5|\n+--------------------+-----+\nonly showing top 20 rows\n\n"
     ]
    }
   ],
   "source": [
    "#Analysis on coaches data \n",
    "\n",
    "#Countries having highest number of coaches \n",
    "\n",
    "#coaches.filter(col(\"Event\").isNull()).groupBy(\"Country\").count().orderBy(\"count\",ascending=False).show()\n",
    "\n",
    "coaches.filter(col(\"Event\")!=\"NULL\").groupBy(\"Country\").count().orderBy(\"count\",ascending=False).show()\n"
   ]
  },
  {
   "cell_type": "code",
   "execution_count": 0,
   "metadata": {
    "application/vnd.databricks.v1+cell": {
     "cellMetadata": {
      "byteLimit": 2048000,
      "rowLimit": 10000
     },
     "inputWidgets": {},
     "nuid": "e8452729-30b8-410f-a937-415a55b2f8ea",
     "showTitle": false,
     "title": ""
    }
   },
   "outputs": [
    {
     "output_type": "stream",
     "name": "stdout",
     "output_type": "stream",
     "text": [
      "+--------------------+-----+\n|                Name|count|\n+--------------------+-----+\n|    TARRES CAMPA Ana|    2|\n|    GUERRERO Rolando|    2|\n| RETEGUI Carlos Jose|    2|\n|       ELAFANDI Nour|    2|\n|GIALLOMBARDO Patr...|    2|\n|REQUENA PERICAS J...|    2|\n|   CHEPAK Anastasiya|    2|\n|            WANG Jie|    2|\n|  CHERNETSKA Natalia|    2|\n|    MONTICO Loredana|    2|\n|       SZAUDER Gabor|    2|\n|       FUJIKI Mayuko|    2|\n|   FARINELLI Roberta|    2|\n|     KLARENBEEK Auke|    1|\n|      ROQUES Anthony|    1|\n|     SCARIOLO Sergio|    1|\n|  KIRKPATRICK Andrew|    1|\n|    JACOBSEN Nikolaj|    1|\n|       BREIVIK Marit|    1|\n|     GUSTAVSSON Tony|    1|\n+--------------------+-----+\nonly showing top 20 rows\n\n"
     ]
    }
   ],
   "source": [
    "coaches.groupBy(\"Name\").count().orderBy(\"count\", ascending=False).show()"
   ]
  },
  {
   "cell_type": "code",
   "execution_count": 0,
   "metadata": {
    "application/vnd.databricks.v1+cell": {
     "cellMetadata": {
      "byteLimit": 2048000,
      "rowLimit": 10000
     },
     "inputWidgets": {},
     "nuid": "e919818e-2634-4b80-b290-92350d1c4d62",
     "showTitle": true,
     "title": "Distribution of coaches across different countries and sports or discipline "
    }
   },
   "outputs": [
    {
     "output_type": "stream",
     "name": "stdout",
     "output_type": "stream",
     "text": [
      "+--------------------+-----------------+-----+\n|             Country|       Discipline|count|\n+--------------------+-----------------+-----+\n|               Spain|       Basketball|   10|\n|             Nigeria|       Basketball|    9|\n|United States of ...|       Basketball|    9|\n|               Spain|Artistic Swimming|    8|\n|               Italy|Artistic Swimming|    7|\n|United States of ...|Baseball/Softball|    6|\n|           Australia|           Hockey|    6|\n|               Chile|         Football|    6|\n|           Venezuela|       Basketball|    6|\n|               Egypt|Artistic Swimming|    6|\n|               Japan|         Football|    6|\n|         Netherlands|           Hockey|    5|\n|               Egypt|         Football|    5|\n|                 ROC|       Volleyball|    5|\n|           Australia|       Basketball|    5|\n|               Japan|       Basketball|    5|\n|       C�te d'Ivoire|         Football|    5|\n|United States of ...|       Volleyball|    5|\n|        South Africa|           Hockey|    5|\n|               India|           Hockey|    5|\n+--------------------+-----------------+-----+\nonly showing top 20 rows\n\n"
     ]
    }
   ],
   "source": [
    "#Distribution of coaches across different countries and sports or discipline \n",
    "\n",
    "coach_distribution = coaches.groupBy(\"Country\", \"Discipline\").count().orderBy(\"count\", ascending=False)\n",
    "coach_distribution.show()"
   ]
  },
  {
   "cell_type": "code",
   "execution_count": 0,
   "metadata": {
    "application/vnd.databricks.v1+cell": {
     "cellMetadata": {
      "byteLimit": 2048000,
      "rowLimit": 10000
     },
     "inputWidgets": {},
     "nuid": "db531749-9f15-45ea-ad77-26cf8d4e1ab6",
     "showTitle": true,
     "title": "How many Football Coaches by country"
    }
   },
   "outputs": [
    {
     "output_type": "stream",
     "name": "stdout",
     "output_type": "stream",
     "text": [
      "+--------------------+-----+\n|             Country|count|\n+--------------------+-----+\n|               Japan|    2|\n|              Brazil|    2|\n|         New Zealand|    2|\n|           Australia|    2|\n|   Republic of Korea|    1|\n|           Argentina|    1|\n|            Honduras|    1|\n|People's Republic...|    1|\n|             Germany|    1|\n|              Mexico|    1|\n|              Sweden|    1|\n|        Saudi Arabia|    1|\n|       C�te d'Ivoire|    1|\n|       Great Britain|    1|\n|              Zambia|    1|\n|               Spain|    1|\n|               Chile|    1|\n|              France|    1|\n|United States of ...|    1|\n|              Canada|    1|\n+--------------------+-----+\nonly showing top 20 rows\n\n"
     ]
    }
   ],
   "source": [
    "#How many Football Coaches by country\n",
    "\n",
    "\n",
    "football_coaches1=coaches.filter((col(\"Discipline\")==\"Football\") & (col(\"Event\")!=\"NULL\"))\n",
    "\n",
    "football_coaches2=football_coaches1.groupBy(\"Country\").count().orderBy(\"count\",ascending=False)\n",
    "\n",
    "football_coaches2.show()"
   ]
  },
  {
   "cell_type": "code",
   "execution_count": 0,
   "metadata": {
    "application/vnd.databricks.v1+cell": {
     "cellMetadata": {
      "byteLimit": 2048000,
      "rowLimit": 10000
     },
     "inputWidgets": {},
     "nuid": "489c6702-830e-4e7f-965c-5ec5553e2728",
     "showTitle": true,
     "title": "Analysis on Gender Entries data  "
    }
   },
   "outputs": [
    {
     "output_type": "stream",
     "name": "stdout",
     "output_type": "stream",
     "text": [
      "+--------------------+------+----+-----+\n|          Discipline|Female|Male|Total|\n+--------------------+------+----+-----+\n|      3x3 Basketball|    32|  32|   64|\n|             Archery|    64|  64|  128|\n| Artistic Gymnastics|    98|  98|  196|\n|   Artistic Swimming|   105|   0|  105|\n|           Athletics|   969|1072| 2041|\n|           Badminton|    86|  87|  173|\n|   Baseball/Softball|    90| 144|  234|\n|          Basketball|   144| 144|  288|\n|    Beach Volleyball|    48|  48|   96|\n|              Boxing|   102| 187|  289|\n|        Canoe Slalom|    41|  41|   82|\n|        Canoe Sprint|   123| 126|  249|\n|Cycling BMX Frees...|    10|   9|   19|\n|  Cycling BMX Racing|    24|  24|   48|\n|Cycling Mountain ...|    38|  38|   76|\n|        Cycling Road|    70| 131|  201|\n|       Cycling Track|    90|  99|  189|\n|              Diving|    72|  71|  143|\n|          Equestrian|    73| 125|  198|\n|             Fencing|   107| 108|  215|\n+--------------------+------+----+-----+\nonly showing top 20 rows\n\n"
     ]
    }
   ],
   "source": [
    "#Analysis on Gender Entries data  \n",
    "entriesgender.show()"
   ]
  },
  {
   "cell_type": "code",
   "execution_count": 0,
   "metadata": {
    "application/vnd.databricks.v1+cell": {
     "cellMetadata": {
      "byteLimit": 2048000,
      "rowLimit": 10000
     },
     "inputWidgets": {},
     "nuid": "767d465e-88ce-45ef-bce5-419ba5cb73fa",
     "showTitle": true,
     "title": "Average number of entries by gender for each sport or discipline"
    }
   },
   "outputs": [
    {
     "output_type": "stream",
     "name": "stdout",
     "output_type": "stream",
     "text": [
      "+--------------------+------+----+-----+------------------+------------------+\n|          Discipline|Female|Male|Total|        Avg_Female|          Avg_Male|\n+--------------------+------+----+-----+------------------+------------------+\n|      3x3 Basketball|    32|  32|   64|              50.0|              50.0|\n|             Archery|    64|  64|  128|              50.0|              50.0|\n| Artistic Gymnastics|    98|  98|  196|              50.0|              50.0|\n|   Artistic Swimming|   105|   0|  105|             100.0|               0.0|\n|           Athletics|   969|1072| 2041| 47.47672709456149| 52.52327290543851|\n|           Badminton|    86|  87|  173| 49.71098265895954| 50.28901734104046|\n|   Baseball/Softball|    90| 144|  234| 38.46153846153847| 61.53846153846154|\n|          Basketball|   144| 144|  288|              50.0|              50.0|\n|    Beach Volleyball|    48|  48|   96|              50.0|              50.0|\n|              Boxing|   102| 187|  289|35.294117647058826| 64.70588235294117|\n|        Canoe Slalom|    41|  41|   82|              50.0|              50.0|\n|        Canoe Sprint|   123| 126|  249| 49.39759036144578|50.602409638554214|\n|Cycling BMX Frees...|    10|   9|   19| 52.63157894736842|47.368421052631575|\n|  Cycling BMX Racing|    24|  24|   48|              50.0|              50.0|\n|Cycling Mountain ...|    38|  38|   76|              50.0|              50.0|\n|        Cycling Road|    70| 131|  201| 34.82587064676617| 65.17412935323384|\n|       Cycling Track|    90|  99|  189| 47.61904761904761| 52.38095238095239|\n|              Diving|    72|  71|  143|50.349650349650354| 49.65034965034965|\n|          Equestrian|    73| 125|  198|36.868686868686865| 63.13131313131313|\n|             Fencing|   107| 108|  215| 49.76744186046512| 50.23255813953489|\n+--------------------+------+----+-----+------------------+------------------+\nonly showing top 20 rows\n\n"
     ]
    }
   ],
   "source": [
    "#Average number of entries by gender for each sport or discipline\n",
    "\n",
    "average_entries_by_gender = entriesgender.withColumn('Avg_Female', (entriesgender['Female'] / entriesgender['Total'])*100).withColumn('Avg_Male', (entriesgender['Male'] / entriesgender['Total'])*100)\n",
    "\n",
    "average_entries_by_gender.show()"
   ]
  },
  {
   "cell_type": "code",
   "execution_count": 0,
   "metadata": {
    "application/vnd.databricks.v1+cell": {
     "cellMetadata": {
      "byteLimit": 2048000,
      "rowLimit": 10000
     },
     "inputWidgets": {},
     "nuid": "60c20ed0-146b-4346-8306-5c30b9979871",
     "showTitle": true,
     "title": "Most participated discipline by both gender"
    }
   },
   "outputs": [
    {
     "output_type": "stream",
     "name": "stdout",
     "output_type": "stream",
     "text": [
      "+-----------------+------+----+-----+\n|       Discipline|Female|Male|Total|\n+-----------------+------+----+-----+\n|        Athletics|   969|1072| 2041|\n|         Swimming|   361| 418|  779|\n|         Football|   264| 344|  608|\n|           Rowing|   257| 265|  522|\n|             Judo|   192| 201|  393|\n|           Hockey|   192| 192|  384|\n|         Shooting|   178| 178|  356|\n|          Sailing|   175| 175|  350|\n|         Handball|   168| 168|  336|\n|     Rugby Sevens|   146| 151|  297|\n|        Wrestling|    96| 193|  289|\n|           Boxing|   102| 187|  289|\n|       Volleyball|   144| 144|  288|\n|       Basketball|   144| 144|  288|\n|       Water Polo|   122| 146|  268|\n|     Canoe Sprint|   123| 126|  249|\n|Baseball/Softball|    90| 144|  234|\n|          Fencing|   107| 108|  215|\n|     Cycling Road|    70| 131|  201|\n|       Equestrian|    73| 125|  198|\n+-----------------+------+----+-----+\nonly showing top 20 rows\n\n"
     ]
    }
   ],
   "source": [
    "#Most participated discipline by both gender\n",
    "\n",
    "both_gender=entriesgender.sort(\"Total\",ascending=False)\n",
    "\n",
    "both_gender.show()"
   ]
  },
  {
   "cell_type": "code",
   "execution_count": 0,
   "metadata": {
    "application/vnd.databricks.v1+cell": {
     "cellMetadata": {
      "byteLimit": 2048000,
      "rowLimit": 10000
     },
     "inputWidgets": {},
     "nuid": "2f9e1b31-9765-4700-8c87-38dee081eb80",
     "showTitle": true,
     "title": "Least participated discipline by both gender"
    }
   },
   "outputs": [
    {
     "output_type": "stream",
     "name": "stdout",
     "output_type": "stream",
     "text": [
      "+--------------------+------+----+-----+\n|          Discipline|Female|Male|Total|\n+--------------------+------+----+-----+\n|Cycling BMX Frees...|    10|   9|   19|\n|Trampoline Gymnas...|    16|  16|   32|\n|      Sport Climbing|    20|  20|   40|\n|             Surfing|    20|  20|   40|\n|  Cycling BMX Racing|    24|  24|   48|\n|   Marathon Swimming|    25|  25|   50|\n|      3x3 Basketball|    32|  32|   64|\n|   Modern Pentathlon|    36|  36|   72|\n|Cycling Mountain ...|    38|  38|   76|\n|       Skateboarding|    40|  40|   80|\n|              Karate|    40|  42|   82|\n|        Canoe Slalom|    41|  41|   82|\n| Rhythmic Gymnastics|    96|   0|   96|\n|    Beach Volleyball|    48|  48|   96|\n|   Artistic Swimming|   105|   0|  105|\n|           Triathlon|    55|  55|  110|\n|                Golf|    60|  60|  120|\n|             Archery|    64|  64|  128|\n|           Taekwondo|    65|  65|  130|\n|              Diving|    72|  71|  143|\n+--------------------+------+----+-----+\nonly showing top 20 rows\n\n"
     ]
    }
   ],
   "source": [
    "\n",
    "#Least participated discipline by both gender\n",
    "both_gender=entriesgender.sort(\"Total\",ascending=True)\n",
    "\n",
    "both_gender.show()"
   ]
  },
  {
   "cell_type": "code",
   "execution_count": 0,
   "metadata": {
    "application/vnd.databricks.v1+cell": {
     "cellMetadata": {
      "byteLimit": 2048000,
      "rowLimit": 10000
     },
     "inputWidgets": {},
     "nuid": "50ca55e7-2969-4cb8-add1-ed3bf86c09d8",
     "showTitle": true,
     "title": "Analysis on Medals data "
    }
   },
   "outputs": [
    {
     "output_type": "stream",
     "name": "stdout",
     "output_type": "stream",
     "text": [
      "+----+--------------------+----+------+------+-----+-------------+\n|Rank|        Team_Country|Gold|Silver|Bronze|Total|Rank by Total|\n+----+--------------------+----+------+------+-----+-------------+\n|   1|United States of ...|  39|    41|    33|  113|            1|\n|   2|People's Republic...|  38|    32|    18|   88|            2|\n|   3|               Japan|  27|    14|    17|   58|            5|\n|   4|       Great Britain|  22|    21|    22|   65|            4|\n|   5|                 ROC|  20|    28|    23|   71|            3|\n|   6|           Australia|  17|     7|    22|   46|            6|\n|   7|         Netherlands|  10|    12|    14|   36|            9|\n|   8|              France|  10|    12|    11|   33|           10|\n|   9|             Germany|  10|    11|    16|   37|            8|\n|  10|               Italy|  10|    10|    20|   40|            7|\n|  11|              Canada|   7|     6|    11|   24|           11|\n|  12|              Brazil|   7|     6|     8|   21|           12|\n|  13|         New Zealand|   7|     6|     7|   20|           13|\n|  14|                Cuba|   7|     3|     5|   15|           18|\n|  15|             Hungary|   6|     7|     7|   20|           13|\n|  16|   Republic of Korea|   6|     4|    10|   20|           13|\n|  17|              Poland|   4|     5|     5|   14|           19|\n|  18|      Czech Republic|   4|     4|     3|   11|           23|\n|  19|               Kenya|   4|     4|     2|   10|           25|\n|  20|              Norway|   4|     2|     2|    8|           29|\n+----+--------------------+----+------+------+-----+-------------+\nonly showing top 20 rows\n\n"
     ]
    }
   ],
   "source": [
    "#Analysis on Medals data \n",
    "medals.show()"
   ]
  },
  {
   "cell_type": "code",
   "execution_count": 0,
   "metadata": {
    "application/vnd.databricks.v1+cell": {
     "cellMetadata": {
      "byteLimit": 2048000,
      "rowLimit": 10000
     },
     "inputWidgets": {},
     "nuid": "44955f8a-31cf-44cf-9c02-33f8d6c0acfc",
     "showTitle": true,
     "title": "Total medals won by each country"
    }
   },
   "outputs": [
    {
     "output_type": "stream",
     "name": "stdout",
     "output_type": "stream",
     "text": [
      "+--------------------+----------+------------+------------+\n|        Team_Country|Total_Gold|Total_Silver|Total_Bronze|\n+--------------------+----------+------------+------------+\n|United States of ...|        39|          41|          33|\n|People's Republic...|        38|          32|          18|\n|               Japan|        27|          14|          17|\n|       Great Britain|        22|          21|          22|\n|                 ROC|        20|          28|          23|\n|           Australia|        17|           7|          22|\n|               Italy|        10|          10|          20|\n|              France|        10|          12|          11|\n|             Germany|        10|          11|          16|\n|         Netherlands|        10|          12|          14|\n|              Canada|         7|           6|          11|\n|                Cuba|         7|           3|           5|\n|         New Zealand|         7|           6|           7|\n|              Brazil|         7|           6|           8|\n|             Hungary|         6|           7|           7|\n|   Republic of Korea|         6|           4|          10|\n|      Czech Republic|         4|           4|           3|\n|             Jamaica|         4|           1|           4|\n|              Norway|         4|           2|           2|\n|              Poland|         4|           5|           5|\n+--------------------+----------+------------+------------+\nonly showing top 20 rows\n\n"
     ]
    }
   ],
   "source": [
    "#Total medals won by each country\n",
    "\n",
    "from pyspark.sql import functions as F\n",
    "\n",
    "total_medals_by_country = medals.groupBy(\"Team_Country\").agg(F.sum(\"Gold\").alias(\"Total_Gold\"),F.sum(\"Silver\").alias(\"Total_Silver\"),F.sum(\"Bronze\").alias(\"Total_Bronze\")\n",
    ").orderBy(\"Total_Gold\", ascending=False)\n",
    "\n",
    "total_medals_by_country.show()"
   ]
  },
  {
   "cell_type": "code",
   "execution_count": 0,
   "metadata": {
    "application/vnd.databricks.v1+cell": {
     "cellMetadata": {
      "byteLimit": 2048000,
      "rowLimit": 10000
     },
     "inputWidgets": {},
     "nuid": "ff0ca004-eb51-464b-bcc4-e5ea3c850049",
     "showTitle": true,
     "title": "Top countries with the highest number of gold medals"
    }
   },
   "outputs": [
    {
     "output_type": "stream",
     "name": "stdout",
     "output_type": "stream",
     "text": [
      "+--------------------+----+\n|        Team_Country|Gold|\n+--------------------+----+\n|United States of ...|  39|\n|People's Republic...|  38|\n|               Japan|  27|\n|       Great Britain|  22|\n|                 ROC|  20|\n|           Australia|  17|\n|         Netherlands|  10|\n|              France|  10|\n|             Germany|  10|\n|               Italy|  10|\n|                Cuba|   7|\n|         New Zealand|   7|\n|              Brazil|   7|\n|              Canada|   7|\n|             Hungary|   6|\n|   Republic of Korea|   6|\n|               Kenya|   4|\n|              Poland|   4|\n|      Czech Republic|   4|\n|              Norway|   4|\n+--------------------+----+\nonly showing top 20 rows\n\n"
     ]
    }
   ],
   "source": [
    "# Find the top countries with the highest number of gold medals\n",
    "top_gold_medal_countries = medals.orderBy(\"Gold\", ascending=False).select(\"Team_Country\",\"Gold\").show()"
   ]
  },
  {
   "cell_type": "code",
   "execution_count": 0,
   "metadata": {
    "application/vnd.databricks.v1+cell": {
     "cellMetadata": {
      "byteLimit": 2048000,
      "rowLimit": 10000
     },
     "inputWidgets": {},
     "nuid": "30d5eafb-b4be-41ff-a6a1-030b04c87818",
     "showTitle": true,
     "title": "Top countries with the highest number of silver medals"
    }
   },
   "outputs": [
    {
     "output_type": "stream",
     "name": "stdout",
     "output_type": "stream",
     "text": [
      "+--------------------+------+\n|        Team_country|Silver|\n+--------------------+------+\n|United States of ...|    41|\n|People's Republic...|    32|\n|                 ROC|    28|\n|       Great Britain|    21|\n|               Japan|    14|\n|         Netherlands|    12|\n|              France|    12|\n|             Germany|    11|\n|               Italy|    10|\n|               Spain|     8|\n|           Australia|     7|\n|             Hungary|     7|\n|              Brazil|     6|\n|              Canada|     6|\n|             Ukraine|     6|\n|              Sweden|     6|\n|         New Zealand|     6|\n|             Georgia|     5|\n|              Poland|     5|\n|               Kenya|     4|\n+--------------------+------+\nonly showing top 20 rows\n\n"
     ]
    }
   ],
   "source": [
    "#Top countries with the highest number of silver medals\n",
    "\n",
    "top_silver_medal_countries= medals.orderBy(\"Silver\",ascending=False).select(\"Team_country\",\"Silver\")\n",
    "top_silver_medal_countries.show()"
   ]
  },
  {
   "cell_type": "code",
   "execution_count": 0,
   "metadata": {
    "application/vnd.databricks.v1+cell": {
     "cellMetadata": {
      "byteLimit": 2048000,
      "rowLimit": 10000
     },
     "inputWidgets": {},
     "nuid": "591001d0-e3e0-44a3-8cc9-c53d00d8e791",
     "showTitle": true,
     "title": "Top countries with the highest number of bronze medals"
    }
   },
   "outputs": [
    {
     "output_type": "stream",
     "name": "stdout",
     "output_type": "stream",
     "text": [
      "+--------------------+------+\n|        Team_country|Bronze|\n+--------------------+------+\n|United States of ...|    33|\n|                 ROC|    23|\n|       Great Britain|    22|\n|           Australia|    22|\n|               Italy|    20|\n|People's Republic...|    18|\n|               Japan|    17|\n|             Germany|    16|\n|         Netherlands|    14|\n|             Ukraine|    12|\n|              France|    11|\n|              Canada|    11|\n|   Republic of Korea|    10|\n|              Turkey|     9|\n|              Brazil|     8|\n|          Kazakhstan|     8|\n|             Hungary|     7|\n|         New Zealand|     7|\n|      Chinese Taipei|     6|\n|         Switzerland|     6|\n+--------------------+------+\nonly showing top 20 rows\n\n"
     ]
    }
   ],
   "source": [
    "\n",
    "#Top countries with the highest number of bronze medals\n",
    "top_bronze_medal_countries= medals.orderBy(\"Bronze\",ascending=False).select(\"Team_country\",\"Bronze\")\n",
    "top_bronze_medal_countries.show()"
   ]
  },
  {
   "cell_type": "code",
   "execution_count": 0,
   "metadata": {
    "application/vnd.databricks.v1+cell": {
     "cellMetadata": {
      "byteLimit": 2048000,
      "rowLimit": 10000
     },
     "inputWidgets": {},
     "nuid": "3f32343c-bd42-458f-870d-79a665ebcde6",
     "showTitle": true,
     "title": "Top countries with highest number of total medals "
    }
   },
   "outputs": [
    {
     "output_type": "stream",
     "name": "stdout",
     "output_type": "stream",
     "text": [
      "+--------------------+-----+\n|        Team_country|Total|\n+--------------------+-----+\n|United States of ...|  113|\n|People's Republic...|   88|\n|                 ROC|   71|\n|       Great Britain|   65|\n|               Japan|   58|\n|           Australia|   46|\n|               Italy|   40|\n|             Germany|   37|\n|         Netherlands|   36|\n|              France|   33|\n|              Canada|   24|\n|              Brazil|   21|\n|         New Zealand|   20|\n|             Hungary|   20|\n|   Republic of Korea|   20|\n|             Ukraine|   19|\n|               Spain|   17|\n|                Cuba|   15|\n|              Poland|   14|\n|         Switzerland|   13|\n+--------------------+-----+\nonly showing top 20 rows\n\n"
     ]
    }
   ],
   "source": [
    "\n",
    "#Top countries with highest number of total medals \n",
    "top_total_medal_countries= medals.sort(\"Total\",ascending=False).select(\"Team_country\",\"Total\")\n",
    "top_total_medal_countries.show()"
   ]
  },
  {
   "cell_type": "code",
   "execution_count": 0,
   "metadata": {
    "application/vnd.databricks.v1+cell": {
     "cellMetadata": {
      "byteLimit": 2048000,
      "rowLimit": 10000
     },
     "inputWidgets": {},
     "nuid": "aed0b057-c148-4aad-815e-9faf6548cc71",
     "showTitle": false,
     "title": ""
    }
   },
   "outputs": [],
   "source": [
    "\n",
    "athletes.repartition(1).write.mode(\"overwrite\").option(\"header\",'true').csv(\"/mnt/tokyoolymic/transformed-data/athletes\")\n",
    "     \n",
    "coaches.repartition(1).write.mode(\"overwrite\").option(\"header\",\"true\").csv(\"/mnt/tokyoolymic/transformed-data/coaches\")\n",
    "\n",
    "entriesgender.repartition(1).write.mode(\"overwrite\").option(\"header\",\"true\").csv(\"/mnt/tokyoolymic/transformed-data/entriesgender\")\n",
    "\n",
    "medals.repartition(1).write.mode(\"overwrite\").option(\"header\",\"true\").csv(\"/mnt/tokyoolymic/transformed-data/medals\")\n",
    "\n",
    "teams.repartition(1).write.mode(\"overwrite\").option(\"header\",\"true\").csv(\"/mnt/tokyoolymic/transformed-data/teams\")\n",
    "     \n"
   ]
  }
 ],
 "metadata": {
  "application/vnd.databricks.v1+notebook": {
   "dashboards": [],
   "language": "python",
   "notebookMetadata": {
    "mostRecentlyExecutedCommandWithImplicitDF": {
     "commandId": 3690865678987471,
     "dataframes": [
      "_sqldf"
     ]
    },
    "pythonIndentUnit": 4
   },
   "notebookName": "Tokyo Olympic Transformation",
   "widgets": {}
  }
 },
 "nbformat": 4,
 "nbformat_minor": 0
}
